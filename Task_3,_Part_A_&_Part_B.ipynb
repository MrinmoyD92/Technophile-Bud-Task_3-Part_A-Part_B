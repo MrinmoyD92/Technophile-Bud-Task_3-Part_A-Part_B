{
  "nbformat": 4,
  "nbformat_minor": 0,
  "metadata": {
    "colab": {
      "name": "Task_3, Part_A & Part_B.ipynb",
      "provenance": []
    },
    "kernelspec": {
      "name": "python3",
      "display_name": "Python 3"
    },
    "language_info": {
      "name": "python"
    }
  },
  "cells": [
    {
      "cell_type": "code",
      "metadata": {
        "id": "7gcYmY-bPulP"
      },
      "source": [
        "# Roman Numbers to Decimal Converter\n",
        "roman_numbers = {'I': 1,'V': 5,'X': 10,'L': 50,'C': 100,'D': 500,'M': 1000}\n",
        "\n",
        "def RomanNumbersConverter(RomanNumber):\n",
        "    sum = 0\n",
        "    for i in range(len(RomanNumber) - 1):\n",
        "        left = RomanNumber[i]\n",
        "        right = RomanNumber[i + 1]\n",
        "        if roman_numbers[left] < roman_numbers[right]:\n",
        "            sum = sum - roman_numbers[left]\n",
        "        else:\n",
        "            sum = sum + roman_numbers[left]\n",
        "    sum = sum + roman_numbers[RomanNumber[-1]]\n",
        "    return sum"
      ],
      "execution_count": 15,
      "outputs": []
    },
    {
      "cell_type": "code",
      "metadata": {
        "colab": {
          "base_uri": "https://localhost:8080/"
        },
        "id": "1ddgywonGlC_",
        "outputId": "7b453de2-deb6-43cc-fba2-4520d36f5576"
      },
      "source": [
        "print('BMI Index Calculator')\n",
        "\n",
        "weight = float(input('Enter your weight in Kg: '))\n",
        "height = float(input('Enter your height in Centimeters: '))\n",
        "height_in_meters = height / 100\n",
        "bmi = weight / (height_in_meters ** 2)\n",
        "\n",
        "print('Your Body Mass Index is: ', round(bmi, 2))\n",
        "\n",
        "if (bmi <= 18.5):\n",
        "  print('You are Underweight')\n",
        "elif (bmi > 18.5 and bmi <= 24.9):\n",
        "  print('You are Healthy')\n",
        "else:\n",
        "  print('You are Overweight')"
      ],
      "execution_count": 8,
      "outputs": [
        {
          "output_type": "stream",
          "text": [
            "BMI Index Calculator\n",
            "Enter your weight in Kg: 66\n",
            "Enter your height in Centimeters: 170\n",
            "Your Body Mass Index is:  22.84\n",
            "You are Healthy\n"
          ],
          "name": "stdout"
        }
      ]
    }
  ]
}